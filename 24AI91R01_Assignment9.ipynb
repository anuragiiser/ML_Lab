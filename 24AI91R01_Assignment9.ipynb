{
  "cells": [
    {
      "cell_type": "markdown",
      "metadata": {
        "id": "Fug0JEaPFPkN"
      },
      "source": [
        "***Anurag Sharma (24AI91R01)***"
      ]
    },
    {
      "cell_type": "markdown",
      "metadata": {
        "id": "LKiKFkCI0TSE"
      },
      "source": [
        "## **LAB Assignment 9**"
      ]
    },
    {
      "cell_type": "code",
      "source": [
        "import pandas as pd\n",
        "import numpy as np\n",
        "import matplotlib.pyplot as plt\n",
        "from sklearn.model_selection import train_test_split\n",
        "from sklearn.cluster import AgglomerativeClustering\n",
        "from scipy.cluster.hierarchy import dendrogram, linkage"
      ],
      "metadata": {
        "id": "RDW-JObQp7Cg"
      },
      "execution_count": 1,
      "outputs": []
    },
    {
      "cell_type": "markdown",
      "metadata": {
        "id": "TfqO80rP1Fo_"
      },
      "source": [
        "# Task - 1"
      ]
    },
    {
      "cell_type": "code",
      "source": [
        "# Load the dataset from the URL\n",
        "df = pd.read_csv(\"https://archive.ics.uci.edu/static/public/149/data.csv\")\n",
        "\n",
        "print(\"Data shape:\", df.shape)"
      ],
      "metadata": {
        "colab": {
          "base_uri": "https://localhost:8080/"
        },
        "id": "gq_H20yoqynH",
        "outputId": "bcb2238c-2b9e-410e-9fa4-e7d5d03e2caa"
      },
      "execution_count": 26,
      "outputs": [
        {
          "output_type": "stream",
          "name": "stdout",
          "text": [
            "Data shape: (846, 19)\n"
          ]
        }
      ]
    },
    {
      "cell_type": "code",
      "source": [
        "df.head()"
      ],
      "metadata": {
        "colab": {
          "base_uri": "https://localhost:8080/",
          "height": 295
        },
        "id": "IcXfhdy4rCSS",
        "outputId": "47f5c55d-f9b9-426c-da9b-2fd4ea264a73"
      },
      "execution_count": 27,
      "outputs": [
        {
          "output_type": "execute_result",
          "data": {
            "text/plain": [
              "   COMPACTNESS  CIRCULARITY  DISTANCE CIRCULARITY  RADIUS RATIO  \\\n",
              "0         95.0           48                    83           178   \n",
              "1         91.0           41                    84           141   \n",
              "2        104.0           50                   106           209   \n",
              "3         93.0           41                    82           159   \n",
              "4         85.0           44                    70           205   \n",
              "\n",
              "   PR.AXIS ASPECT RATIO  MAX.LENGTH ASPECT RATIO  SCATTER RATIO  \\\n",
              "0                    72                       10            162   \n",
              "1                    57                        9            149   \n",
              "2                    66                       10            207   \n",
              "3                    63                        9            144   \n",
              "4                   103                       52            149   \n",
              "\n",
              "   ELONGATEDNESS  PR.AXIS RECTANGULARITY  MAX.LENGTH RECTANGULARITY  \\\n",
              "0             42                      20                        159   \n",
              "1             45                      19                        143   \n",
              "2             32                      23                        158   \n",
              "3             46                      19                        143   \n",
              "4             45                      19                        144   \n",
              "\n",
              "   SCALED VARIANCE ALONG MAJOR AXIS  SCALED VARIANCE ALONG MINOR AXIS  \\\n",
              "0                               176                               379   \n",
              "1                               170                               330   \n",
              "2                               223                               635   \n",
              "3                               160                               309   \n",
              "4                               241                               325   \n",
              "\n",
              "   SCALED RADIUS OF GYRATION  SKEWNESS ABOUT MAJOR AXIS  \\\n",
              "0                        184                         70   \n",
              "1                        158                         72   \n",
              "2                        220                         73   \n",
              "3                        127                         63   \n",
              "4                        188                        127   \n",
              "\n",
              "   SKEWNESS ABOUT MINOR AXIS  KURTOSIS ABOUT MINOR AXIS  \\\n",
              "0                          6                         16   \n",
              "1                          9                         14   \n",
              "2                         14                          9   \n",
              "3                          6                         10   \n",
              "4                          9                         11   \n",
              "\n",
              "   KURTOSIS ABOUT MAJOR AXIS  HOLLOWS RATIO class  \n",
              "0                        187            197   van  \n",
              "1                        189            199   van  \n",
              "2                        188            196  saab  \n",
              "3                        199            207   van  \n",
              "4                        180            183   bus  "
            ],
            "text/html": [
              "\n",
              "  <div id=\"df-d14e1ad7-62e4-4d04-87b6-2296e9040c22\" class=\"colab-df-container\">\n",
              "    <div>\n",
              "<style scoped>\n",
              "    .dataframe tbody tr th:only-of-type {\n",
              "        vertical-align: middle;\n",
              "    }\n",
              "\n",
              "    .dataframe tbody tr th {\n",
              "        vertical-align: top;\n",
              "    }\n",
              "\n",
              "    .dataframe thead th {\n",
              "        text-align: right;\n",
              "    }\n",
              "</style>\n",
              "<table border=\"1\" class=\"dataframe\">\n",
              "  <thead>\n",
              "    <tr style=\"text-align: right;\">\n",
              "      <th></th>\n",
              "      <th>COMPACTNESS</th>\n",
              "      <th>CIRCULARITY</th>\n",
              "      <th>DISTANCE CIRCULARITY</th>\n",
              "      <th>RADIUS RATIO</th>\n",
              "      <th>PR.AXIS ASPECT RATIO</th>\n",
              "      <th>MAX.LENGTH ASPECT RATIO</th>\n",
              "      <th>SCATTER RATIO</th>\n",
              "      <th>ELONGATEDNESS</th>\n",
              "      <th>PR.AXIS RECTANGULARITY</th>\n",
              "      <th>MAX.LENGTH RECTANGULARITY</th>\n",
              "      <th>SCALED VARIANCE ALONG MAJOR AXIS</th>\n",
              "      <th>SCALED VARIANCE ALONG MINOR AXIS</th>\n",
              "      <th>SCALED RADIUS OF GYRATION</th>\n",
              "      <th>SKEWNESS ABOUT MAJOR AXIS</th>\n",
              "      <th>SKEWNESS ABOUT MINOR AXIS</th>\n",
              "      <th>KURTOSIS ABOUT MINOR AXIS</th>\n",
              "      <th>KURTOSIS ABOUT MAJOR AXIS</th>\n",
              "      <th>HOLLOWS RATIO</th>\n",
              "      <th>class</th>\n",
              "    </tr>\n",
              "  </thead>\n",
              "  <tbody>\n",
              "    <tr>\n",
              "      <th>0</th>\n",
              "      <td>95.0</td>\n",
              "      <td>48</td>\n",
              "      <td>83</td>\n",
              "      <td>178</td>\n",
              "      <td>72</td>\n",
              "      <td>10</td>\n",
              "      <td>162</td>\n",
              "      <td>42</td>\n",
              "      <td>20</td>\n",
              "      <td>159</td>\n",
              "      <td>176</td>\n",
              "      <td>379</td>\n",
              "      <td>184</td>\n",
              "      <td>70</td>\n",
              "      <td>6</td>\n",
              "      <td>16</td>\n",
              "      <td>187</td>\n",
              "      <td>197</td>\n",
              "      <td>van</td>\n",
              "    </tr>\n",
              "    <tr>\n",
              "      <th>1</th>\n",
              "      <td>91.0</td>\n",
              "      <td>41</td>\n",
              "      <td>84</td>\n",
              "      <td>141</td>\n",
              "      <td>57</td>\n",
              "      <td>9</td>\n",
              "      <td>149</td>\n",
              "      <td>45</td>\n",
              "      <td>19</td>\n",
              "      <td>143</td>\n",
              "      <td>170</td>\n",
              "      <td>330</td>\n",
              "      <td>158</td>\n",
              "      <td>72</td>\n",
              "      <td>9</td>\n",
              "      <td>14</td>\n",
              "      <td>189</td>\n",
              "      <td>199</td>\n",
              "      <td>van</td>\n",
              "    </tr>\n",
              "    <tr>\n",
              "      <th>2</th>\n",
              "      <td>104.0</td>\n",
              "      <td>50</td>\n",
              "      <td>106</td>\n",
              "      <td>209</td>\n",
              "      <td>66</td>\n",
              "      <td>10</td>\n",
              "      <td>207</td>\n",
              "      <td>32</td>\n",
              "      <td>23</td>\n",
              "      <td>158</td>\n",
              "      <td>223</td>\n",
              "      <td>635</td>\n",
              "      <td>220</td>\n",
              "      <td>73</td>\n",
              "      <td>14</td>\n",
              "      <td>9</td>\n",
              "      <td>188</td>\n",
              "      <td>196</td>\n",
              "      <td>saab</td>\n",
              "    </tr>\n",
              "    <tr>\n",
              "      <th>3</th>\n",
              "      <td>93.0</td>\n",
              "      <td>41</td>\n",
              "      <td>82</td>\n",
              "      <td>159</td>\n",
              "      <td>63</td>\n",
              "      <td>9</td>\n",
              "      <td>144</td>\n",
              "      <td>46</td>\n",
              "      <td>19</td>\n",
              "      <td>143</td>\n",
              "      <td>160</td>\n",
              "      <td>309</td>\n",
              "      <td>127</td>\n",
              "      <td>63</td>\n",
              "      <td>6</td>\n",
              "      <td>10</td>\n",
              "      <td>199</td>\n",
              "      <td>207</td>\n",
              "      <td>van</td>\n",
              "    </tr>\n",
              "    <tr>\n",
              "      <th>4</th>\n",
              "      <td>85.0</td>\n",
              "      <td>44</td>\n",
              "      <td>70</td>\n",
              "      <td>205</td>\n",
              "      <td>103</td>\n",
              "      <td>52</td>\n",
              "      <td>149</td>\n",
              "      <td>45</td>\n",
              "      <td>19</td>\n",
              "      <td>144</td>\n",
              "      <td>241</td>\n",
              "      <td>325</td>\n",
              "      <td>188</td>\n",
              "      <td>127</td>\n",
              "      <td>9</td>\n",
              "      <td>11</td>\n",
              "      <td>180</td>\n",
              "      <td>183</td>\n",
              "      <td>bus</td>\n",
              "    </tr>\n",
              "  </tbody>\n",
              "</table>\n",
              "</div>\n",
              "    <div class=\"colab-df-buttons\">\n",
              "\n",
              "  <div class=\"colab-df-container\">\n",
              "    <button class=\"colab-df-convert\" onclick=\"convertToInteractive('df-d14e1ad7-62e4-4d04-87b6-2296e9040c22')\"\n",
              "            title=\"Convert this dataframe to an interactive table.\"\n",
              "            style=\"display:none;\">\n",
              "\n",
              "  <svg xmlns=\"http://www.w3.org/2000/svg\" height=\"24px\" viewBox=\"0 -960 960 960\">\n",
              "    <path d=\"M120-120v-720h720v720H120Zm60-500h600v-160H180v160Zm220 220h160v-160H400v160Zm0 220h160v-160H400v160ZM180-400h160v-160H180v160Zm440 0h160v-160H620v160ZM180-180h160v-160H180v160Zm440 0h160v-160H620v160Z\"/>\n",
              "  </svg>\n",
              "    </button>\n",
              "\n",
              "  <style>\n",
              "    .colab-df-container {\n",
              "      display:flex;\n",
              "      gap: 12px;\n",
              "    }\n",
              "\n",
              "    .colab-df-convert {\n",
              "      background-color: #E8F0FE;\n",
              "      border: none;\n",
              "      border-radius: 50%;\n",
              "      cursor: pointer;\n",
              "      display: none;\n",
              "      fill: #1967D2;\n",
              "      height: 32px;\n",
              "      padding: 0 0 0 0;\n",
              "      width: 32px;\n",
              "    }\n",
              "\n",
              "    .colab-df-convert:hover {\n",
              "      background-color: #E2EBFA;\n",
              "      box-shadow: 0px 1px 2px rgba(60, 64, 67, 0.3), 0px 1px 3px 1px rgba(60, 64, 67, 0.15);\n",
              "      fill: #174EA6;\n",
              "    }\n",
              "\n",
              "    .colab-df-buttons div {\n",
              "      margin-bottom: 4px;\n",
              "    }\n",
              "\n",
              "    [theme=dark] .colab-df-convert {\n",
              "      background-color: #3B4455;\n",
              "      fill: #D2E3FC;\n",
              "    }\n",
              "\n",
              "    [theme=dark] .colab-df-convert:hover {\n",
              "      background-color: #434B5C;\n",
              "      box-shadow: 0px 1px 3px 1px rgba(0, 0, 0, 0.15);\n",
              "      filter: drop-shadow(0px 1px 2px rgba(0, 0, 0, 0.3));\n",
              "      fill: #FFFFFF;\n",
              "    }\n",
              "  </style>\n",
              "\n",
              "    <script>\n",
              "      const buttonEl =\n",
              "        document.querySelector('#df-d14e1ad7-62e4-4d04-87b6-2296e9040c22 button.colab-df-convert');\n",
              "      buttonEl.style.display =\n",
              "        google.colab.kernel.accessAllowed ? 'block' : 'none';\n",
              "\n",
              "      async function convertToInteractive(key) {\n",
              "        const element = document.querySelector('#df-d14e1ad7-62e4-4d04-87b6-2296e9040c22');\n",
              "        const dataTable =\n",
              "          await google.colab.kernel.invokeFunction('convertToInteractive',\n",
              "                                                    [key], {});\n",
              "        if (!dataTable) return;\n",
              "\n",
              "        const docLinkHtml = 'Like what you see? Visit the ' +\n",
              "          '<a target=\"_blank\" href=https://colab.research.google.com/notebooks/data_table.ipynb>data table notebook</a>'\n",
              "          + ' to learn more about interactive tables.';\n",
              "        element.innerHTML = '';\n",
              "        dataTable['output_type'] = 'display_data';\n",
              "        await google.colab.output.renderOutput(dataTable, element);\n",
              "        const docLink = document.createElement('div');\n",
              "        docLink.innerHTML = docLinkHtml;\n",
              "        element.appendChild(docLink);\n",
              "      }\n",
              "    </script>\n",
              "  </div>\n",
              "\n",
              "\n",
              "<div id=\"df-74482a8c-0137-46b5-84eb-647186262d65\">\n",
              "  <button class=\"colab-df-quickchart\" onclick=\"quickchart('df-74482a8c-0137-46b5-84eb-647186262d65')\"\n",
              "            title=\"Suggest charts\"\n",
              "            style=\"display:none;\">\n",
              "\n",
              "<svg xmlns=\"http://www.w3.org/2000/svg\" height=\"24px\"viewBox=\"0 0 24 24\"\n",
              "     width=\"24px\">\n",
              "    <g>\n",
              "        <path d=\"M19 3H5c-1.1 0-2 .9-2 2v14c0 1.1.9 2 2 2h14c1.1 0 2-.9 2-2V5c0-1.1-.9-2-2-2zM9 17H7v-7h2v7zm4 0h-2V7h2v10zm4 0h-2v-4h2v4z\"/>\n",
              "    </g>\n",
              "</svg>\n",
              "  </button>\n",
              "\n",
              "<style>\n",
              "  .colab-df-quickchart {\n",
              "      --bg-color: #E8F0FE;\n",
              "      --fill-color: #1967D2;\n",
              "      --hover-bg-color: #E2EBFA;\n",
              "      --hover-fill-color: #174EA6;\n",
              "      --disabled-fill-color: #AAA;\n",
              "      --disabled-bg-color: #DDD;\n",
              "  }\n",
              "\n",
              "  [theme=dark] .colab-df-quickchart {\n",
              "      --bg-color: #3B4455;\n",
              "      --fill-color: #D2E3FC;\n",
              "      --hover-bg-color: #434B5C;\n",
              "      --hover-fill-color: #FFFFFF;\n",
              "      --disabled-bg-color: #3B4455;\n",
              "      --disabled-fill-color: #666;\n",
              "  }\n",
              "\n",
              "  .colab-df-quickchart {\n",
              "    background-color: var(--bg-color);\n",
              "    border: none;\n",
              "    border-radius: 50%;\n",
              "    cursor: pointer;\n",
              "    display: none;\n",
              "    fill: var(--fill-color);\n",
              "    height: 32px;\n",
              "    padding: 0;\n",
              "    width: 32px;\n",
              "  }\n",
              "\n",
              "  .colab-df-quickchart:hover {\n",
              "    background-color: var(--hover-bg-color);\n",
              "    box-shadow: 0 1px 2px rgba(60, 64, 67, 0.3), 0 1px 3px 1px rgba(60, 64, 67, 0.15);\n",
              "    fill: var(--button-hover-fill-color);\n",
              "  }\n",
              "\n",
              "  .colab-df-quickchart-complete:disabled,\n",
              "  .colab-df-quickchart-complete:disabled:hover {\n",
              "    background-color: var(--disabled-bg-color);\n",
              "    fill: var(--disabled-fill-color);\n",
              "    box-shadow: none;\n",
              "  }\n",
              "\n",
              "  .colab-df-spinner {\n",
              "    border: 2px solid var(--fill-color);\n",
              "    border-color: transparent;\n",
              "    border-bottom-color: var(--fill-color);\n",
              "    animation:\n",
              "      spin 1s steps(1) infinite;\n",
              "  }\n",
              "\n",
              "  @keyframes spin {\n",
              "    0% {\n",
              "      border-color: transparent;\n",
              "      border-bottom-color: var(--fill-color);\n",
              "      border-left-color: var(--fill-color);\n",
              "    }\n",
              "    20% {\n",
              "      border-color: transparent;\n",
              "      border-left-color: var(--fill-color);\n",
              "      border-top-color: var(--fill-color);\n",
              "    }\n",
              "    30% {\n",
              "      border-color: transparent;\n",
              "      border-left-color: var(--fill-color);\n",
              "      border-top-color: var(--fill-color);\n",
              "      border-right-color: var(--fill-color);\n",
              "    }\n",
              "    40% {\n",
              "      border-color: transparent;\n",
              "      border-right-color: var(--fill-color);\n",
              "      border-top-color: var(--fill-color);\n",
              "    }\n",
              "    60% {\n",
              "      border-color: transparent;\n",
              "      border-right-color: var(--fill-color);\n",
              "    }\n",
              "    80% {\n",
              "      border-color: transparent;\n",
              "      border-right-color: var(--fill-color);\n",
              "      border-bottom-color: var(--fill-color);\n",
              "    }\n",
              "    90% {\n",
              "      border-color: transparent;\n",
              "      border-bottom-color: var(--fill-color);\n",
              "    }\n",
              "  }\n",
              "</style>\n",
              "\n",
              "  <script>\n",
              "    async function quickchart(key) {\n",
              "      const quickchartButtonEl =\n",
              "        document.querySelector('#' + key + ' button');\n",
              "      quickchartButtonEl.disabled = true;  // To prevent multiple clicks.\n",
              "      quickchartButtonEl.classList.add('colab-df-spinner');\n",
              "      try {\n",
              "        const charts = await google.colab.kernel.invokeFunction(\n",
              "            'suggestCharts', [key], {});\n",
              "      } catch (error) {\n",
              "        console.error('Error during call to suggestCharts:', error);\n",
              "      }\n",
              "      quickchartButtonEl.classList.remove('colab-df-spinner');\n",
              "      quickchartButtonEl.classList.add('colab-df-quickchart-complete');\n",
              "    }\n",
              "    (() => {\n",
              "      let quickchartButtonEl =\n",
              "        document.querySelector('#df-74482a8c-0137-46b5-84eb-647186262d65 button');\n",
              "      quickchartButtonEl.style.display =\n",
              "        google.colab.kernel.accessAllowed ? 'block' : 'none';\n",
              "    })();\n",
              "  </script>\n",
              "</div>\n",
              "\n",
              "    </div>\n",
              "  </div>\n"
            ],
            "application/vnd.google.colaboratory.intrinsic+json": {
              "type": "dataframe",
              "variable_name": "df",
              "summary": "{\n  \"name\": \"df\",\n  \"rows\": 846,\n  \"fields\": [\n    {\n      \"column\": \"COMPACTNESS\",\n      \"properties\": {\n        \"dtype\": \"number\",\n        \"std\": 8.2364738783667,\n        \"min\": 73.0,\n        \"max\": 119.0,\n        \"num_unique_values\": 44,\n        \"samples\": [\n          112.0,\n          119.0,\n          78.0\n        ],\n        \"semantic_type\": \"\",\n        \"description\": \"\"\n      }\n    },\n    {\n      \"column\": \"CIRCULARITY\",\n      \"properties\": {\n        \"dtype\": \"number\",\n        \"std\": 6,\n        \"min\": 33,\n        \"max\": 100,\n        \"num_unique_values\": 28,\n        \"samples\": [\n          42,\n          58,\n          46\n        ],\n        \"semantic_type\": \"\",\n        \"description\": \"\"\n      }\n    },\n    {\n      \"column\": \"DISTANCE CIRCULARITY\",\n      \"properties\": {\n        \"dtype\": \"number\",\n        \"std\": 15,\n        \"min\": 36,\n        \"max\": 112,\n        \"num_unique_values\": 64,\n        \"samples\": [\n          59,\n          42,\n          83\n        ],\n        \"semantic_type\": \"\",\n        \"description\": \"\"\n      }\n    },\n    {\n      \"column\": \"RADIUS RATIO\",\n      \"properties\": {\n        \"dtype\": \"number\",\n        \"std\": 33,\n        \"min\": 73,\n        \"max\": 333,\n        \"num_unique_values\": 135,\n        \"samples\": [\n          168,\n          116,\n          132\n        ],\n        \"semantic_type\": \"\",\n        \"description\": \"\"\n      }\n    },\n    {\n      \"column\": \"PR.AXIS ASPECT RATIO\",\n      \"properties\": {\n        \"dtype\": \"number\",\n        \"std\": 9,\n        \"min\": 47,\n        \"max\": 199,\n        \"num_unique_values\": 38,\n        \"samples\": [\n          138,\n          105,\n          103\n        ],\n        \"semantic_type\": \"\",\n        \"description\": \"\"\n      }\n    },\n    {\n      \"column\": \"MAX.LENGTH ASPECT RATIO\",\n      \"properties\": {\n        \"dtype\": \"number\",\n        \"std\": 5,\n        \"min\": 2,\n        \"max\": 73,\n        \"num_unique_values\": 22,\n        \"samples\": [\n          10,\n          13,\n          49\n        ],\n        \"semantic_type\": \"\",\n        \"description\": \"\"\n      }\n    },\n    {\n      \"column\": \"SCATTER RATIO\",\n      \"properties\": {\n        \"dtype\": \"number\",\n        \"std\": 33,\n        \"min\": 6,\n        \"max\": 265,\n        \"num_unique_values\": 132,\n        \"samples\": [\n          261,\n          247,\n          150\n        ],\n        \"semantic_type\": \"\",\n        \"description\": \"\"\n      }\n    },\n    {\n      \"column\": \"ELONGATEDNESS\",\n      \"properties\": {\n        \"dtype\": \"number\",\n        \"std\": 8,\n        \"min\": 26,\n        \"max\": 162,\n        \"num_unique_values\": 36,\n        \"samples\": [\n          162,\n          31,\n          39\n        ],\n        \"semantic_type\": \"\",\n        \"description\": \"\"\n      }\n    },\n    {\n      \"column\": \"PR.AXIS RECTANGULARITY\",\n      \"properties\": {\n        \"dtype\": \"number\",\n        \"std\": 2,\n        \"min\": 17,\n        \"max\": 40,\n        \"num_unique_values\": 14,\n        \"samples\": [\n          25,\n          26,\n          20\n        ],\n        \"semantic_type\": \"\",\n        \"description\": \"\"\n      }\n    },\n    {\n      \"column\": \"MAX.LENGTH RECTANGULARITY\",\n      \"properties\": {\n        \"dtype\": \"number\",\n        \"std\": 15,\n        \"min\": 20,\n        \"max\": 188,\n        \"num_unique_values\": 67,\n        \"samples\": [\n          137,\n          125,\n          169\n        ],\n        \"semantic_type\": \"\",\n        \"description\": \"\"\n      }\n    },\n    {\n      \"column\": \"SCALED VARIANCE ALONG MAJOR AXIS\",\n      \"properties\": {\n        \"dtype\": \"number\",\n        \"std\": 31,\n        \"min\": 127,\n        \"max\": 320,\n        \"num_unique_values\": 129,\n        \"samples\": [\n          218,\n          154,\n          164\n        ],\n        \"semantic_type\": \"\",\n        \"description\": \"\"\n      }\n    },\n    {\n      \"column\": \"SCALED VARIANCE ALONG MINOR AXIS\",\n      \"properties\": {\n        \"dtype\": \"number\",\n        \"std\": 176,\n        \"min\": 184,\n        \"max\": 1018,\n        \"num_unique_values\": 424,\n        \"samples\": [\n          674,\n          517,\n          274\n        ],\n        \"semantic_type\": \"\",\n        \"description\": \"\"\n      }\n    },\n    {\n      \"column\": \"SCALED RADIUS OF GYRATION\",\n      \"properties\": {\n        \"dtype\": \"number\",\n        \"std\": 33,\n        \"min\": 109,\n        \"max\": 401,\n        \"num_unique_values\": 144,\n        \"samples\": [\n          261,\n          177,\n          115\n        ],\n        \"semantic_type\": \"\",\n        \"description\": \"\"\n      }\n    },\n    {\n      \"column\": \"SKEWNESS ABOUT MAJOR AXIS\",\n      \"properties\": {\n        \"dtype\": \"number\",\n        \"std\": 7,\n        \"min\": 59,\n        \"max\": 135,\n        \"num_unique_values\": 40,\n        \"samples\": [\n          118,\n          69,\n          68\n        ],\n        \"semantic_type\": \"\",\n        \"description\": \"\"\n      }\n    },\n    {\n      \"column\": \"SKEWNESS ABOUT MINOR AXIS\",\n      \"properties\": {\n        \"dtype\": \"number\",\n        \"std\": 5,\n        \"min\": 0,\n        \"max\": 72,\n        \"num_unique_values\": 24,\n        \"samples\": [\n          8,\n          11,\n          6\n        ],\n        \"semantic_type\": \"\",\n        \"description\": \"\"\n      }\n    },\n    {\n      \"column\": \"KURTOSIS ABOUT MINOR AXIS\",\n      \"properties\": {\n        \"dtype\": \"number\",\n        \"std\": 8,\n        \"min\": 0,\n        \"max\": 41,\n        \"num_unique_values\": 41,\n        \"samples\": [\n          23,\n          28,\n          13\n        ],\n        \"semantic_type\": \"\",\n        \"description\": \"\"\n      }\n    },\n    {\n      \"column\": \"KURTOSIS ABOUT MAJOR AXIS\",\n      \"properties\": {\n        \"dtype\": \"number\",\n        \"std\": 8,\n        \"min\": 19,\n        \"max\": 206,\n        \"num_unique_values\": 31,\n        \"samples\": [\n          177,\n          179,\n          182\n        ],\n        \"semantic_type\": \"\",\n        \"description\": \"\"\n      }\n    },\n    {\n      \"column\": \"HOLLOWS RATIO\",\n      \"properties\": {\n        \"dtype\": \"number\",\n        \"std\": 7,\n        \"min\": 181,\n        \"max\": 211,\n        \"num_unique_values\": 31,\n        \"samples\": [\n          186,\n          205,\n          198\n        ],\n        \"semantic_type\": \"\",\n        \"description\": \"\"\n      }\n    },\n    {\n      \"column\": \"class\",\n      \"properties\": {\n        \"dtype\": \"category\",\n        \"num_unique_values\": 5,\n        \"samples\": [\n          \"saab\",\n          \"204\",\n          \"bus\"\n        ],\n        \"semantic_type\": \"\",\n        \"description\": \"\"\n      }\n    }\n  ]\n}"
            }
          },
          "metadata": {},
          "execution_count": 27
        }
      ]
    },
    {
      "cell_type": "code",
      "source": [
        "# check for null values\n",
        "df.isnull().sum()"
      ],
      "metadata": {
        "colab": {
          "base_uri": "https://localhost:8080/",
          "height": 680
        },
        "id": "nI-Nr-nR0WMu",
        "outputId": "ab3b3c1a-5cd1-4c33-c184-8b095907c44e"
      },
      "execution_count": 28,
      "outputs": [
        {
          "output_type": "execute_result",
          "data": {
            "text/plain": [
              "COMPACTNESS                         1\n",
              "CIRCULARITY                         0\n",
              "DISTANCE CIRCULARITY                0\n",
              "RADIUS RATIO                        0\n",
              "PR.AXIS ASPECT RATIO                0\n",
              "MAX.LENGTH ASPECT RATIO             0\n",
              "SCATTER RATIO                       0\n",
              "ELONGATEDNESS                       0\n",
              "PR.AXIS RECTANGULARITY              0\n",
              "MAX.LENGTH RECTANGULARITY           0\n",
              "SCALED VARIANCE ALONG MAJOR AXIS    0\n",
              "SCALED VARIANCE ALONG MINOR AXIS    0\n",
              "SCALED RADIUS OF GYRATION           0\n",
              "SKEWNESS ABOUT MAJOR AXIS           0\n",
              "SKEWNESS ABOUT MINOR AXIS           0\n",
              "KURTOSIS ABOUT MINOR AXIS           0\n",
              "KURTOSIS ABOUT MAJOR AXIS           0\n",
              "HOLLOWS RATIO                       0\n",
              "class                               0\n",
              "dtype: int64"
            ],
            "text/html": [
              "<div>\n",
              "<style scoped>\n",
              "    .dataframe tbody tr th:only-of-type {\n",
              "        vertical-align: middle;\n",
              "    }\n",
              "\n",
              "    .dataframe tbody tr th {\n",
              "        vertical-align: top;\n",
              "    }\n",
              "\n",
              "    .dataframe thead th {\n",
              "        text-align: right;\n",
              "    }\n",
              "</style>\n",
              "<table border=\"1\" class=\"dataframe\">\n",
              "  <thead>\n",
              "    <tr style=\"text-align: right;\">\n",
              "      <th></th>\n",
              "      <th>0</th>\n",
              "    </tr>\n",
              "  </thead>\n",
              "  <tbody>\n",
              "    <tr>\n",
              "      <th>COMPACTNESS</th>\n",
              "      <td>1</td>\n",
              "    </tr>\n",
              "    <tr>\n",
              "      <th>CIRCULARITY</th>\n",
              "      <td>0</td>\n",
              "    </tr>\n",
              "    <tr>\n",
              "      <th>DISTANCE CIRCULARITY</th>\n",
              "      <td>0</td>\n",
              "    </tr>\n",
              "    <tr>\n",
              "      <th>RADIUS RATIO</th>\n",
              "      <td>0</td>\n",
              "    </tr>\n",
              "    <tr>\n",
              "      <th>PR.AXIS ASPECT RATIO</th>\n",
              "      <td>0</td>\n",
              "    </tr>\n",
              "    <tr>\n",
              "      <th>MAX.LENGTH ASPECT RATIO</th>\n",
              "      <td>0</td>\n",
              "    </tr>\n",
              "    <tr>\n",
              "      <th>SCATTER RATIO</th>\n",
              "      <td>0</td>\n",
              "    </tr>\n",
              "    <tr>\n",
              "      <th>ELONGATEDNESS</th>\n",
              "      <td>0</td>\n",
              "    </tr>\n",
              "    <tr>\n",
              "      <th>PR.AXIS RECTANGULARITY</th>\n",
              "      <td>0</td>\n",
              "    </tr>\n",
              "    <tr>\n",
              "      <th>MAX.LENGTH RECTANGULARITY</th>\n",
              "      <td>0</td>\n",
              "    </tr>\n",
              "    <tr>\n",
              "      <th>SCALED VARIANCE ALONG MAJOR AXIS</th>\n",
              "      <td>0</td>\n",
              "    </tr>\n",
              "    <tr>\n",
              "      <th>SCALED VARIANCE ALONG MINOR AXIS</th>\n",
              "      <td>0</td>\n",
              "    </tr>\n",
              "    <tr>\n",
              "      <th>SCALED RADIUS OF GYRATION</th>\n",
              "      <td>0</td>\n",
              "    </tr>\n",
              "    <tr>\n",
              "      <th>SKEWNESS ABOUT MAJOR AXIS</th>\n",
              "      <td>0</td>\n",
              "    </tr>\n",
              "    <tr>\n",
              "      <th>SKEWNESS ABOUT MINOR AXIS</th>\n",
              "      <td>0</td>\n",
              "    </tr>\n",
              "    <tr>\n",
              "      <th>KURTOSIS ABOUT MINOR AXIS</th>\n",
              "      <td>0</td>\n",
              "    </tr>\n",
              "    <tr>\n",
              "      <th>KURTOSIS ABOUT MAJOR AXIS</th>\n",
              "      <td>0</td>\n",
              "    </tr>\n",
              "    <tr>\n",
              "      <th>HOLLOWS RATIO</th>\n",
              "      <td>0</td>\n",
              "    </tr>\n",
              "    <tr>\n",
              "      <th>class</th>\n",
              "      <td>0</td>\n",
              "    </tr>\n",
              "  </tbody>\n",
              "</table>\n",
              "</div><br><label><b>dtype:</b> int64</label>"
            ]
          },
          "metadata": {},
          "execution_count": 28
        }
      ]
    },
    {
      "cell_type": "code",
      "source": [
        "# replace null value of a column with mean value\n",
        "df.fillna({'COMPACTNESS': df['COMPACTNESS'].mean()}, inplace=True)"
      ],
      "metadata": {
        "id": "p4uDFlPM0dbQ"
      },
      "execution_count": 29,
      "outputs": []
    },
    {
      "cell_type": "markdown",
      "metadata": {
        "id": "KAi9LiTW1tJK"
      },
      "source": [
        "# Task - 2\n",
        "\n"
      ]
    },
    {
      "cell_type": "code",
      "source": [
        "# Count and remove duplicate rows\n",
        "print(\"Number of duplicate rows:\", df.duplicated().sum())\n",
        "df.drop_duplicates(inplace=True)\n",
        "\n",
        "# Separate features (X) and target label (y)\n",
        "X = df.drop('class', axis=1)\n",
        "y = df['class']\n",
        "\n",
        "# Display shapes of features and target variable\n",
        "print(\"Features shape:\", X.shape)\n",
        "print(\"Target shape:\", y.shape)"
      ],
      "metadata": {
        "colab": {
          "base_uri": "https://localhost:8080/"
        },
        "id": "_7x7A2ueqyqW",
        "outputId": "547e7690-afe4-4535-b1c5-036f3aa48e5f"
      },
      "execution_count": 30,
      "outputs": [
        {
          "output_type": "stream",
          "name": "stdout",
          "text": [
            "Number of duplicate rows: 0\n",
            "Features shape: (846, 18)\n",
            "Target shape: (846,)\n"
          ]
        }
      ]
    },
    {
      "cell_type": "code",
      "source": [
        "# Split the data into training and test sets\n",
        "X_train, X_test, y_train, y_test = train_test_split(X, y, test_size=0.2, random_state=4)"
      ],
      "metadata": {
        "id": "GGw7jRzjrOKa"
      },
      "execution_count": 31,
      "outputs": []
    },
    {
      "cell_type": "markdown",
      "metadata": {
        "id": "GCLF_YRO2Emu"
      },
      "source": [
        "# Task - 3"
      ]
    },
    {
      "cell_type": "code",
      "source": [
        "# Task 3: Implementing Hierarchical Agglomerative Clustering (HAC) from scratch\n",
        "\n",
        "# Function to calculate Euclidean distance between two points\n",
        "def euclidean_distance(point1, point2):\n",
        "    return np.sqrt(np.sum((point1 - point2) ** 2))\n",
        "\n",
        "# Function to calculate average linkage distance between two clusters\n",
        "def average_linkage(cluster_a, cluster_b, data):\n",
        "    distances = [euclidean_distance(data[i], data[j]) for i in cluster_a for j in cluster_b]\n",
        "    return np.mean(distances)\n",
        "\n",
        "# Hierarchical Agglomerative Clustering implementation\n",
        "def hierarchical_clustering(data, num_clusters):\n",
        "    num_samples = data.shape[0]\n",
        "    clusters = [[i] for i in range(num_samples)]  # Start with each sample as its own cluster\n",
        "\n",
        "    # Repeat until the desired number of clusters is achieved\n",
        "    while len(clusters) > num_clusters:\n",
        "        min_distance = float('inf')\n",
        "        cluster_a, cluster_b = -1, -1\n",
        "\n",
        "        # Find the closest pair of clusters\n",
        "        for i in range(len(clusters)):\n",
        "            for j in range(i + 1, len(clusters)):\n",
        "                distance = average_linkage(clusters[i], clusters[j], data)\n",
        "                if distance < min_distance:\n",
        "                    min_distance = distance\n",
        "                    cluster_a, cluster_b = i, j\n",
        "\n",
        "        # Merge the closest clusters\n",
        "        clusters[cluster_a].extend(clusters[cluster_b])\n",
        "        clusters.pop(cluster_b)\n",
        "\n",
        "    # Assign cluster labels to each data point\n",
        "    labels = np.zeros(num_samples, dtype=int)\n",
        "    for cluster_idx, cluster in enumerate(clusters):\n",
        "        for sample_idx in cluster:\n",
        "            labels[sample_idx] = cluster_idx\n",
        "\n",
        "    return labels"
      ],
      "metadata": {
        "id": "EGm0X1bXrLNx"
      },
      "execution_count": 11,
      "outputs": []
    },
    {
      "cell_type": "code",
      "source": [
        "# Perform HAC from scratch with 4 clusters\n",
        "custom_hac_labels = hierarchical_clustering(X_train.values, num_clusters=4)"
      ],
      "metadata": {
        "id": "vWgvy5zYp7M4"
      },
      "execution_count": 12,
      "outputs": []
    },
    {
      "cell_type": "markdown",
      "metadata": {
        "id": "BWGrXydc2i2U"
      },
      "source": [
        "# Task -  4"
      ]
    },
    {
      "cell_type": "code",
      "source": [
        "# Task 4: Using Scikit-Learn's AgglomerativeClustering for comparison\n",
        "\n",
        "# Cluster with Scikit-Learn's AgglomerativeClustering\n",
        "sklearn_hac = AgglomerativeClustering(n_clusters=4, linkage='average', metric='euclidean')\n",
        "sklearn_labels = sklearn_hac.fit_predict(X_train)"
      ],
      "metadata": {
        "id": "GKBP1qLcrX80"
      },
      "execution_count": 32,
      "outputs": []
    },
    {
      "cell_type": "markdown",
      "metadata": {
        "id": "iCFOBRNr3IiW"
      },
      "source": [
        "# Task - 5"
      ]
    },
    {
      "cell_type": "code",
      "source": [
        "# Task 5: Plot Dendrograms for Comparison\n",
        "\n",
        "# Calculate linkage matrices for dendrogram visualization\n",
        "linkage_matrix_custom = linkage(X_train, method='average', metric='euclidean')\n",
        "linkage_matrix_sklearn = linkage(X_train, method='average', metric='euclidean')\n",
        "\n",
        "# Plot side-by-side dendrograms for custom and Scikit-Learn HAC implementations\n",
        "fig, (ax1, ax2) = plt.subplots(1, 2, figsize=(25, 8))\n",
        "\n",
        "# Dendrogram for custom HAC\n",
        "dendrogram(linkage_matrix_custom, ax=ax1, color_threshold=0.2)\n",
        "ax1.set_title('Dendrogram (Scratch HAC)')\n",
        "ax1.set_xlabel('Data Points')\n",
        "ax1.set_ylabel('Distance')\n",
        "\n",
        "# Dendrogram for Scikit-Learn HAC\n",
        "dendrogram(linkage_matrix_sklearn, ax=ax2, color_threshold=0.2)\n",
        "ax2.set_title('Dendrogram (Scikit-Learn HAC)')\n",
        "ax2.set_xlabel('Data Points')\n",
        "ax2.set_ylabel('Distance')\n",
        "\n",
        "plt.tight_layout()\n",
        "plt.show()"
      ],
      "metadata": {
        "colab": {
          "base_uri": "https://localhost:8080/",
          "height": 466
        },
        "id": "WX0sieXzp7Pv",
        "outputId": "77179812-5464-46a7-fee9-e8949e3637dc"
      },
      "execution_count": 43,
      "outputs": [
        {
          "output_type": "display_data",
          "data": {
            "text/plain": [
              "<Figure size 2500x800 with 2 Axes>"
            ],
            "image/png": "[encoded data removed]"
          },
          "metadata": {}
        }
      ]
    },
    {
      "cell_type": "markdown",
      "metadata": {
        "id": "_Ip-OK6C3eDS"
      },
      "source": [
        "# Task - 6"
      ]
    },
    {
      "cell_type": "code",
      "source": [
        "# Task 6: Relabeling Clusters for Consistency\n",
        "\n",
        "# Calculate cluster centroids\n",
        "def calculate_centroids(data, labels, num_clusters):\n",
        "    centroids = []\n",
        "    for cluster_id in range(num_clusters):\n",
        "        cluster_points = data[labels == cluster_id]\n",
        "        centroids.append(np.mean(cluster_points, axis=0))\n",
        "    return centroids\n",
        "\n",
        "# Relabel clusters based on centroid order for consistency\n",
        "def relabel_clusters(data, labels, num_clusters):\n",
        "    centroids = calculate_centroids(data, labels, num_clusters)\n",
        "    sorted_indices = np.argsort([np.sum(centroid) for centroid in centroids])\n",
        "    label_map = {original: new for new, original in enumerate(sorted_indices)}\n",
        "    return np.vectorize(label_map.get)(labels)\n",
        "\n",
        "# Relabel clusters for custom and Scikit-Learn implementations\n",
        "custom_hac_labels_relabel = relabel_clusters(X_train.values, custom_hac_labels, 4)\n",
        "sklearn_labels_relabel = relabel_clusters(X_train.values, sklearn_labels, 4)"
      ],
      "metadata": {
        "id": "jt0C15lwp7So"
      },
      "execution_count": 40,
      "outputs": []
    },
    {
      "cell_type": "markdown",
      "metadata": {
        "id": "dD6aJvJt4m-R"
      },
      "source": [
        "# Task - 7"
      ]
    },
    {
      "cell_type": "code",
      "source": [
        "# Task 7: Evaluate Cluster Label Consistency\n",
        "\n",
        "# Calculate the percentage of matching labels between both methods\n",
        "matching_labels_count = np.sum(custom_hac_labels_relabel == sklearn_labels_relabel)\n",
        "total_data_points = len(custom_hac_labels_relabel)\n",
        "matching_percentage = (matching_labels_count / total_data_points) * 100\n",
        "\n",
        "print(f\"Percentage of matching labels between methods: {matching_percentage:.2f}%\")"
      ],
      "metadata": {
        "colab": {
          "base_uri": "https://localhost:8080/"
        },
        "id": "71_OhHTlrfGN",
        "outputId": "37af0108-eec0-465e-e599-e3357d55a860"
      },
      "execution_count": 41,
      "outputs": [
        {
          "output_type": "stream",
          "name": "stdout",
          "text": [
            "Percentage of matching labels between methods: 100.00%\n"
          ]
        }
      ]
    },
    {
      "cell_type": "markdown",
      "source": [
        "# Task - 8"
      ],
      "metadata": {
        "id": "iXt-efbce8k1"
      }
    },
    {
      "cell_type": "code",
      "source": [
        "# Task 8: Report Cluster Consistency with Original Class Labels\n",
        "\n",
        "# Function to analyze cluster consistency with actual class labels\n",
        "def report_cluster_consistency(cluster_labels, actual_labels):\n",
        "    num_clusters = len(np.unique(cluster_labels))\n",
        "    unique_classes = np.unique(actual_labels)\n",
        "\n",
        "    for cluster_id in range(num_clusters):\n",
        "        cluster_samples = actual_labels[cluster_labels == cluster_id]\n",
        "        cluster_size = len(cluster_samples)\n",
        "\n",
        "        print(f\"\\nCluster {cluster_id} (Size: {cluster_size}):\")\n",
        "        for class_label in unique_classes:\n",
        "            class_count = np.sum(cluster_samples == class_label)\n",
        "            class_fraction = class_count / cluster_size if cluster_size > 0 else 0\n",
        "            print(f\"  Class {class_label}: {class_fraction:.2f}\")\n",
        "\n",
        "# Report consistency for both custom and Scikit-Learn HAC labels\n",
        "print(\"\\nCustom HAC Cluster Consistency:\")\n",
        "report_cluster_consistency(custom_hac_labels_relabel, y_train.values)\n",
        "\n",
        "print(\"\\nScikit-Learn HAC Cluster Consistency:\")\n",
        "report_cluster_consistency(sklearn_labels_relabel, y_train.values)"
      ],
      "metadata": {
        "colab": {
          "base_uri": "https://localhost:8080/"
        },
        "id": "8HXsUgD8rfJ0",
        "outputId": "cc06be8a-7f37-484d-c2e2-b5b2dabfdf19"
      },
      "execution_count": 42,
      "outputs": [
        {
          "output_type": "stream",
          "name": "stdout",
          "text": [
            "\n",
            "Custom HAC Cluster Consistency:\n",
            "\n",
            "Cluster 0 (Size: 424):\n",
            "  Class 204: 0.00\n",
            "  Class bus: 0.30\n",
            "  Class opel: 0.16\n",
            "  Class saab: 0.17\n",
            "  Class van: 0.38\n",
            "\n",
            "Cluster 1 (Size: 1):\n",
            "  Class 204: 1.00\n",
            "  Class bus: 0.00\n",
            "  Class opel: 0.00\n",
            "  Class saab: 0.00\n",
            "  Class van: 0.00\n",
            "\n",
            "Cluster 2 (Size: 233):\n",
            "  Class 204: 0.00\n",
            "  Class bus: 0.13\n",
            "  Class opel: 0.42\n",
            "  Class saab: 0.45\n",
            "  Class van: 0.00\n",
            "\n",
            "Cluster 3 (Size: 18):\n",
            "  Class 204: 0.00\n",
            "  Class bus: 1.00\n",
            "  Class opel: 0.00\n",
            "  Class saab: 0.00\n",
            "  Class van: 0.00\n",
            "\n",
            "Scikit-Learn HAC Cluster Consistency:\n",
            "\n",
            "Cluster 0 (Size: 424):\n",
            "  Class 204: 0.00\n",
            "  Class bus: 0.30\n",
            "  Class opel: 0.16\n",
            "  Class saab: 0.17\n",
            "  Class van: 0.38\n",
            "\n",
            "Cluster 1 (Size: 1):\n",
            "  Class 204: 1.00\n",
            "  Class bus: 0.00\n",
            "  Class opel: 0.00\n",
            "  Class saab: 0.00\n",
            "  Class van: 0.00\n",
            "\n",
            "Cluster 2 (Size: 233):\n",
            "  Class 204: 0.00\n",
            "  Class bus: 0.13\n",
            "  Class opel: 0.42\n",
            "  Class saab: 0.45\n",
            "  Class van: 0.00\n",
            "\n",
            "Cluster 3 (Size: 18):\n",
            "  Class 204: 0.00\n",
            "  Class bus: 1.00\n",
            "  Class opel: 0.00\n",
            "  Class saab: 0.00\n",
            "  Class van: 0.00\n"
          ]
        }
      ]
    },
    {
      "cell_type": "code",
      "source": [],
      "metadata": {
        "id": "P_PsYzo-1wWt"
      },
      "execution_count": 42,
      "outputs": []
    }
  ],
  "metadata": {
    "colab": {
      "provenance": []
    },
    "kernelspec": {
      "display_name": "Python 3",
      "name": "python3"
    },
    "language_info": {
      "name": "python"
    }
  },
  "nbformat": 4,
  "nbformat_minor": 0
}