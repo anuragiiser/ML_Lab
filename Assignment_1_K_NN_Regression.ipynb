{
  "nbformat": 4,
  "nbformat_minor": 0,
  "metadata": {
    "colab": {
      "provenance": []
    },
    "kernelspec": {
      "name": "python3",
      "display_name": "Python 3"
    },
    "language_info": {
      "name": "python"
    }
  },
  "cells": [
    {
      "cell_type": "markdown",
      "source": [
        "**Anurag Sharma (24AI91R01)**"
      ],
      "metadata": {
        "id": "YCKSH5bRJVQh"
      }
    },
    {
      "cell_type": "markdown",
      "source": [
        "## **Lab Assignment 1**\n",
        "\n",
        "<font color='purple'>**K-NN regression**</font>\n",
        "\n",
        "<font color='blue'>Description:</font> Neighbors-based regression can be used in cases where the data labels are continuous rather than discrete variables. The label assigned to a query point is computed based on the mean of the labels of its nearest neighbors.\n",
        "\n",
        "<font color='blue'>scikit-learn implements two different neighbors regressors: </font>  \n",
        "1. ***KNeighborsRegressor*** implements learning based on the K nearest neighbors of each query point, where K is an integer value specified by the user.\n",
        "2. ***RadiusNeighborsRegressor*** implements learning based on the neighbors within a fixed radius of the query point, where is a floating-point value specified by the user.\n",
        "\n",
        "<font color='red'>**NOTE**</font>\n",
        "\n",
        "The basic nearest neighbors regression uses ```uniform weights:``` that is, each point in the local neighborhood contributes uniformly to the classification of a query point. Under some circumstances, it can be advantageous to ```weight points``` such that nearby points contribute more to the regression than faraway points. This can be accomplished through the ```weights keyword```. The default value, ```weights = 'uniform'```, assigns equal weights to all points. ```weights = 'distance'``` assigns weights proportional to the inverse of the distance from the query point.\n",
        "\n",
        "**Alternatively, a user-defined function of the distance can be supplied, which will be used to compute the weights.**\n"
      ],
      "metadata": {
        "id": "iR4YzS1Zwvn1"
      }
    },
    {
      "cell_type": "markdown",
      "source": [
        "### <font color='blue'>Objective: </font>\n",
        "\n",
        "In this assignment, you will implement and evaluate a K-Nearest Neighbors (KNN) regression model using a toy dataset generated with scikit-learn. You will implement with scikit-learn's built-in KNN regression and analyze the performance."
      ],
      "metadata": {
        "id": "krL-N1u02_gL"
      }
    },
    {
      "cell_type": "markdown",
      "source": [
        "#### Task - 1:\n",
        "Dataset creation using make_regression of scikit-learn [Mark - 0]\n",
        "\n"
      ],
      "metadata": {
        "id": "Qco9yR8v2xb8"
      }
    },
    {
      "cell_type": "code",
      "source": [
        "# Creating regression dataset\n",
        "# from sklearn.datasets import make_regression\n",
        "# import pandas as pd\n",
        "\n",
        "# # Creating a toy regression dataset with 5 features\n",
        "# X_gen, y_gen = make_regression(n_samples=1000, n_features=5, noise=0.1, random_state=42)\n",
        "\n",
        "# # Combine the features and target into one DataFrame\n",
        "# df = pd.DataFrame(X_gen, columns=[f'Feature_{i}' for i in range(1, 6)])\n",
        "# df['target'] = y_gen\n",
        "\n",
        "# # Save the DataFrame to a CSV file\n",
        "# df.to_csv('regression_dataset.csv', index=False)"
      ],
      "metadata": {
        "id": "Ig2FyKKx1jsO"
      },
      "execution_count": 311,
      "outputs": []
    },
    {
      "cell_type": "code",
      "source": [
        "import pandas as pd\n",
        "import numpy as np\n",
        "import matplotlib.pyplot as plt\n",
        "from sklearn import preprocessing\n",
        "from tqdm import tqdm\n",
        "from sklearn.neighbors import KNeighborsRegressor\n",
        "from sklearn.metrics import mean_squared_error"
      ],
      "metadata": {
        "id": "X_fHMKyfflme"
      },
      "execution_count": 312,
      "outputs": []
    },
    {
      "cell_type": "code",
      "source": [
        "df = pd.read_csv('https://raw.githubusercontent.com/Rekha215/Machine-Learning-Laboratory/main/regression_dataset.csv')\n",
        "# df = pd.read_csv('regression_dataset.csv')\n",
        "df.head()"
      ],
      "metadata": {
        "colab": {
          "base_uri": "https://localhost:8080/",
          "height": 206
        },
        "id": "ALocAEbqJJgT",
        "outputId": "70ff3d53-012b-47d2-c0d1-77fbf62d6071"
      },
      "execution_count": 313,
      "outputs": [
        {
          "output_type": "execute_result",
          "data": {
            "text/plain": [
              "   Feature_1  Feature_2  Feature_3  Feature_4  Feature_5     target\n",
              "0   2.056544   0.606851   0.482688  -1.130888   0.420094  74.905613\n",
              "1  -0.799192  -0.645964  -0.182896  -0.482744   1.374876 -41.649588\n",
              "2   1.076007  -0.796026  -0.751969   0.021312  -0.319054 -24.182866\n",
              "3  -0.103255  -0.828497   1.489863  -1.643189  -1.600904 -87.094505\n",
              "4  -2.063403   0.503252  -0.645572  -0.317350  -1.661083 -86.122029"
            ],
            "text/html": [
              "\n",
              "  <div id=\"df-0d220b01-03d8-42b2-8671-e20b923b9f85\" class=\"colab-df-container\">\n",
              "    <div>\n",
              "<style scoped>\n",
              "    .dataframe tbody tr th:only-of-type {\n",
              "        vertical-align: middle;\n",
              "    }\n",
              "\n",
              "    .dataframe tbody tr th {\n",
              "        vertical-align: top;\n",
              "    }\n",
              "\n",
              "    .dataframe thead th {\n",
              "        text-align: right;\n",
              "    }\n",
              "</style>\n",
              "<table border=\"1\" class=\"dataframe\">\n",
              "  <thead>\n",
              "    <tr style=\"text-align: right;\">\n",
              "      <th></th>\n",
              "      <th>Feature_1</th>\n",
              "      <th>Feature_2</th>\n",
              "      <th>Feature_3</th>\n",
              "      <th>Feature_4</th>\n",
              "      <th>Feature_5</th>\n",
              "      <th>target</th>\n",
              "    </tr>\n",
              "  </thead>\n",
              "  <tbody>\n",
              "    <tr>\n",
              "      <th>0</th>\n",
              "      <td>2.056544</td>\n",
              "      <td>0.606851</td>\n",
              "      <td>0.482688</td>\n",
              "      <td>-1.130888</td>\n",
              "      <td>0.420094</td>\n",
              "      <td>74.905613</td>\n",
              "    </tr>\n",
              "    <tr>\n",
              "      <th>1</th>\n",
              "      <td>-0.799192</td>\n",
              "      <td>-0.645964</td>\n",
              "      <td>-0.182896</td>\n",
              "      <td>-0.482744</td>\n",
              "      <td>1.374876</td>\n",
              "      <td>-41.649588</td>\n",
              "    </tr>\n",
              "    <tr>\n",
              "      <th>2</th>\n",
              "      <td>1.076007</td>\n",
              "      <td>-0.796026</td>\n",
              "      <td>-0.751969</td>\n",
              "      <td>0.021312</td>\n",
              "      <td>-0.319054</td>\n",
              "      <td>-24.182866</td>\n",
              "    </tr>\n",
              "    <tr>\n",
              "      <th>3</th>\n",
              "      <td>-0.103255</td>\n",
              "      <td>-0.828497</td>\n",
              "      <td>1.489863</td>\n",
              "      <td>-1.643189</td>\n",
              "      <td>-1.600904</td>\n",
              "      <td>-87.094505</td>\n",
              "    </tr>\n",
              "    <tr>\n",
              "      <th>4</th>\n",
              "      <td>-2.063403</td>\n",
              "      <td>0.503252</td>\n",
              "      <td>-0.645572</td>\n",
              "      <td>-0.317350</td>\n",
              "      <td>-1.661083</td>\n",
              "      <td>-86.122029</td>\n",
              "    </tr>\n",
              "  </tbody>\n",
              "</table>\n",
              "</div>\n",
              "    <div class=\"colab-df-buttons\">\n",
              "\n",
              "  <div class=\"colab-df-container\">\n",
              "    <button class=\"colab-df-convert\" onclick=\"convertToInteractive('df-0d220b01-03d8-42b2-8671-e20b923b9f85')\"\n",
              "            title=\"Convert this dataframe to an interactive table.\"\n",
              "            style=\"display:none;\">\n",
              "\n",
              "  <svg xmlns=\"http://www.w3.org/2000/svg\" height=\"24px\" viewBox=\"0 -960 960 960\">\n",
              "    <path d=\"M120-120v-720h720v720H120Zm60-500h600v-160H180v160Zm220 220h160v-160H400v160Zm0 220h160v-160H400v160ZM180-400h160v-160H180v160Zm440 0h160v-160H620v160ZM180-180h160v-160H180v160Zm440 0h160v-160H620v160Z\"/>\n",
              "  </svg>\n",
              "    </button>\n",
              "\n",
              "  <style>\n",
              "    .colab-df-container {\n",
              "      display:flex;\n",
              "      gap: 12px;\n",
              "    }\n",
              "\n",
              "    .colab-df-convert {\n",
              "      background-color: #E8F0FE;\n",
              "      border: none;\n",
              "      border-radius: 50%;\n",
              "      cursor: pointer;\n",
              "      display: none;\n",
              "      fill: #1967D2;\n",
              "      height: 32px;\n",
              "      padding: 0 0 0 0;\n",
              "      width: 32px;\n",
              "    }\n",
              "\n",
              "    .colab-df-convert:hover {\n",
              "      background-color: #E2EBFA;\n",
              "      box-shadow: 0px 1px 2px rgba(60, 64, 67, 0.3), 0px 1px 3px 1px rgba(60, 64, 67, 0.15);\n",
              "      fill: #174EA6;\n",
              "    }\n",
              "\n",
              "    .colab-df-buttons div {\n",
              "      margin-bottom: 4px;\n",
              "    }\n",
              "\n",
              "    [theme=dark] .colab-df-convert {\n",
              "      background-color: #3B4455;\n",
              "      fill: #D2E3FC;\n",
              "    }\n",
              "\n",
              "    [theme=dark] .colab-df-convert:hover {\n",
              "      background-color: #434B5C;\n",
              "      box-shadow: 0px 1px 3px 1px rgba(0, 0, 0, 0.15);\n",
              "      filter: drop-shadow(0px 1px 2px rgba(0, 0, 0, 0.3));\n",
              "      fill: #FFFFFF;\n",
              "    }\n",
              "  </style>\n",
              "\n",
              "    <script>\n",
              "      const buttonEl =\n",
              "        document.querySelector('#df-0d220b01-03d8-42b2-8671-e20b923b9f85 button.colab-df-convert');\n",
              "      buttonEl.style.display =\n",
              "        google.colab.kernel.accessAllowed ? 'block' : 'none';\n",
              "\n",
              "      async function convertToInteractive(key) {\n",
              "        const element = document.querySelector('#df-0d220b01-03d8-42b2-8671-e20b923b9f85');\n",
              "        const dataTable =\n",
              "          await google.colab.kernel.invokeFunction('convertToInteractive',\n",
              "                                                    [key], {});\n",
              "        if (!dataTable) return;\n",
              "\n",
              "        const docLinkHtml = 'Like what you see? Visit the ' +\n",
              "          '<a target=\"_blank\" href=https://colab.research.google.com/notebooks/data_table.ipynb>data table notebook</a>'\n",
              "          + ' to learn more about interactive tables.';\n",
              "        element.innerHTML = '';\n",
              "        dataTable['output_type'] = 'display_data';\n",
              "        await google.colab.output.renderOutput(dataTable, element);\n",
              "        const docLink = document.createElement('div');\n",
              "        docLink.innerHTML = docLinkHtml;\n",
              "        element.appendChild(docLink);\n",
              "      }\n",
              "    </script>\n",
              "  </div>\n",
              "\n",
              "\n",
              "<div id=\"df-f99a9057-4cdb-47db-99ba-cdc909261a17\">\n",
              "  <button class=\"colab-df-quickchart\" onclick=\"quickchart('df-f99a9057-4cdb-47db-99ba-cdc909261a17')\"\n",
              "            title=\"Suggest charts\"\n",
              "            style=\"display:none;\">\n",
              "\n",
              "<svg xmlns=\"http://www.w3.org/2000/svg\" height=\"24px\"viewBox=\"0 0 24 24\"\n",
              "     width=\"24px\">\n",
              "    <g>\n",
              "        <path d=\"M19 3H5c-1.1 0-2 .9-2 2v14c0 1.1.9 2 2 2h14c1.1 0 2-.9 2-2V5c0-1.1-.9-2-2-2zM9 17H7v-7h2v7zm4 0h-2V7h2v10zm4 0h-2v-4h2v4z\"/>\n",
              "    </g>\n",
              "</svg>\n",
              "  </button>\n",
              "\n",
              "<style>\n",
              "  .colab-df-quickchart {\n",
              "      --bg-color: #E8F0FE;\n",
              "      --fill-color: #1967D2;\n",
              "      --hover-bg-color: #E2EBFA;\n",
              "      --hover-fill-color: #174EA6;\n",
              "      --disabled-fill-color: #AAA;\n",
              "      --disabled-bg-color: #DDD;\n",
              "  }\n",
              "\n",
              "  [theme=dark] .colab-df-quickchart {\n",
              "      --bg-color: #3B4455;\n",
              "      --fill-color: #D2E3FC;\n",
              "      --hover-bg-color: #434B5C;\n",
              "      --hover-fill-color: #FFFFFF;\n",
              "      --disabled-bg-color: #3B4455;\n",
              "      --disabled-fill-color: #666;\n",
              "  }\n",
              "\n",
              "  .colab-df-quickchart {\n",
              "    background-color: var(--bg-color);\n",
              "    border: none;\n",
              "    border-radius: 50%;\n",
              "    cursor: pointer;\n",
              "    display: none;\n",
              "    fill: var(--fill-color);\n",
              "    height: 32px;\n",
              "    padding: 0;\n",
              "    width: 32px;\n",
              "  }\n",
              "\n",
              "  .colab-df-quickchart:hover {\n",
              "    background-color: var(--hover-bg-color);\n",
              "    box-shadow: 0 1px 2px rgba(60, 64, 67, 0.3), 0 1px 3px 1px rgba(60, 64, 67, 0.15);\n",
              "    fill: var(--button-hover-fill-color);\n",
              "  }\n",
              "\n",
              "  .colab-df-quickchart-complete:disabled,\n",
              "  .colab-df-quickchart-complete:disabled:hover {\n",
              "    background-color: var(--disabled-bg-color);\n",
              "    fill: var(--disabled-fill-color);\n",
              "    box-shadow: none;\n",
              "  }\n",
              "\n",
              "  .colab-df-spinner {\n",
              "    border: 2px solid var(--fill-color);\n",
              "    border-color: transparent;\n",
              "    border-bottom-color: var(--fill-color);\n",
              "    animation:\n",
              "      spin 1s steps(1) infinite;\n",
              "  }\n",
              "\n",
              "  @keyframes spin {\n",
              "    0% {\n",
              "      border-color: transparent;\n",
              "      border-bottom-color: var(--fill-color);\n",
              "      border-left-color: var(--fill-color);\n",
              "    }\n",
              "    20% {\n",
              "      border-color: transparent;\n",
              "      border-left-color: var(--fill-color);\n",
              "      border-top-color: var(--fill-color);\n",
              "    }\n",
              "    30% {\n",
              "      border-color: transparent;\n",
              "      border-left-color: var(--fill-color);\n",
              "      border-top-color: var(--fill-color);\n",
              "      border-right-color: var(--fill-color);\n",
              "    }\n",
              "    40% {\n",
              "      border-color: transparent;\n",
              "      border-right-color: var(--fill-color);\n",
              "      border-top-color: var(--fill-color);\n",
              "    }\n",
              "    60% {\n",
              "      border-color: transparent;\n",
              "      border-right-color: var(--fill-color);\n",
              "    }\n",
              "    80% {\n",
              "      border-color: transparent;\n",
              "      border-right-color: var(--fill-color);\n",
              "      border-bottom-color: var(--fill-color);\n",
              "    }\n",
              "    90% {\n",
              "      border-color: transparent;\n",
              "      border-bottom-color: var(--fill-color);\n",
              "    }\n",
              "  }\n",
              "</style>\n",
              "\n",
              "  <script>\n",
              "    async function quickchart(key) {\n",
              "      const quickchartButtonEl =\n",
              "        document.querySelector('#' + key + ' button');\n",
              "      quickchartButtonEl.disabled = true;  // To prevent multiple clicks.\n",
              "      quickchartButtonEl.classList.add('colab-df-spinner');\n",
              "      try {\n",
              "        const charts = await google.colab.kernel.invokeFunction(\n",
              "            'suggestCharts', [key], {});\n",
              "      } catch (error) {\n",
              "        console.error('Error during call to suggestCharts:', error);\n",
              "      }\n",
              "      quickchartButtonEl.classList.remove('colab-df-spinner');\n",
              "      quickchartButtonEl.classList.add('colab-df-quickchart-complete');\n",
              "    }\n",
              "    (() => {\n",
              "      let quickchartButtonEl =\n",
              "        document.querySelector('#df-f99a9057-4cdb-47db-99ba-cdc909261a17 button');\n",
              "      quickchartButtonEl.style.display =\n",
              "        google.colab.kernel.accessAllowed ? 'block' : 'none';\n",
              "    })();\n",
              "  </script>\n",
              "</div>\n",
              "\n",
              "    </div>\n",
              "  </div>\n"
            ],
            "application/vnd.google.colaboratory.intrinsic+json": {
              "type": "dataframe",
              "variable_name": "df",
              "summary": "{\n  \"name\": \"df\",\n  \"rows\": 1000,\n  \"fields\": [\n    {\n      \"column\": \"Feature_1\",\n      \"properties\": {\n        \"dtype\": \"number\",\n        \"std\": 0.9598420017569697,\n        \"min\": -3.007632339693757,\n        \"max\": 3.0788808084552377,\n        \"num_unique_values\": 1000,\n        \"samples\": [\n          -0.543424771133765,\n          -0.3570292008066094,\n          1.8071966436378848\n        ],\n        \"semantic_type\": \"\",\n        \"description\": \"\"\n      }\n    },\n    {\n      \"column\": \"Feature_2\",\n      \"properties\": {\n        \"dtype\": \"number\",\n        \"std\": 1.0053207497928607,\n        \"min\": -3.241267340069073,\n        \"max\": 3.152056734512085,\n        \"num_unique_values\": 1000,\n        \"samples\": [\n          -0.0327532702159983,\n          -1.5178737466808094,\n          1.450927548279212\n        ],\n        \"semantic_type\": \"\",\n        \"description\": \"\"\n      }\n    },\n    {\n      \"column\": \"Feature_3\",\n      \"properties\": {\n        \"dtype\": \"number\",\n        \"std\": 0.9992188872627089,\n        \"min\": -3.170425735878056,\n        \"max\": 3.926237706436327,\n        \"num_unique_values\": 1000,\n        \"samples\": [\n          -0.5736620068802363,\n          -0.2939669476641822,\n          -0.0774434607259936\n        ],\n        \"semantic_type\": \"\",\n        \"description\": \"\"\n      }\n    },\n    {\n      \"column\": \"Feature_4\",\n      \"properties\": {\n        \"dtype\": \"number\",\n        \"std\": 0.988835402272661,\n        \"min\": -3.1767038131960006,\n        \"max\": 3.852731490654721,\n        \"num_unique_values\": 1000,\n        \"samples\": [\n          -0.7128457826771644,\n          0.8903831635197862,\n          -1.6826586941226858\n        ],\n        \"semantic_type\": \"\",\n        \"description\": \"\"\n      }\n    },\n    {\n      \"column\": \"Feature_5\",\n      \"properties\": {\n        \"dtype\": \"number\",\n        \"std\": 1.0292480463637732,\n        \"min\": -2.94038863466428,\n        \"max\": 3.2430929695947333,\n        \"num_unique_values\": 1000,\n        \"samples\": [\n          -0.5468589412403921,\n          -0.0715992518580668,\n          -1.1952937635992449\n        ],\n        \"semantic_type\": \"\",\n        \"description\": \"\"\n      }\n    },\n    {\n      \"column\": \"target\",\n      \"properties\": {\n        \"dtype\": \"number\",\n        \"std\": 64.72227829928767,\n        \"min\": -223.0834366815274,\n        \"max\": 173.1379589811568,\n        \"num_unique_values\": 1000,\n        \"samples\": [\n          -54.692228587132014,\n          -64.36117982306618,\n          52.87950110686434\n        ],\n        \"semantic_type\": \"\",\n        \"description\": \"\"\n      }\n    }\n  ]\n}"
            }
          },
          "metadata": {},
          "execution_count": 313
        }
      ]
    },
    {
      "cell_type": "code",
      "source": [
        "X = df[df.columns.drop('target')].to_numpy()\n",
        "Y = df[['target']].to_numpy()"
      ],
      "metadata": {
        "id": "mwLtBe5hJKVr"
      },
      "execution_count": 314,
      "outputs": []
    },
    {
      "cell_type": "code",
      "source": [
        "# splitting data into train, test, and validation set\n",
        "from sklearn.model_selection import train_test_split\n",
        "X_train, X_test, y_train, y_test = train_test_split(X, Y, test_size=0.25, random_state=4)\n",
        "X_train, X_val, y_train, y_val = train_test_split(X_train, y_train, test_size=0.30, random_state=4)"
      ],
      "metadata": {
        "id": "Fq9KLS_XIMbW"
      },
      "execution_count": 315,
      "outputs": []
    },
    {
      "cell_type": "markdown",
      "source": [
        "#### Task - 2:\n",
        "Two K-NN regressor implementations (from scratch)\n",
        "1. Average of K-nearest neighbors [Marks - 5]\n",
        "2. Weighted average of k nearest neighbors, with weights being inverse of distances from the k neighbors [Marks - 5]"
      ],
      "metadata": {
        "id": "ij2dl7flzP85"
      }
    },
    {
      "cell_type": "code",
      "source": [
        "def minkowski_distance(x, y, p=2):\n",
        "    return np.sum(np.abs(x - y) ** p) ** (1 / p)\n",
        "\n",
        "class KNN:\n",
        "    def __init__(self, k=3, weight='uniform', distance_metric='minkowski', p=2):\n",
        "        self.k = k\n",
        "        self.weight = weight\n",
        "        self.distance_metric = distance_metric  # Add distance_metric parameter\n",
        "        self.p = p  # Add p parameter for Minkowski distance\n",
        "\n",
        "    def fit_knn(self, X_train, y_train):\n",
        "        self.X_train = X_train\n",
        "        self.y_train = y_train\n",
        "\n",
        "    def _compute_distance(self, x):\n",
        "        if self.distance_metric == 'minkowski':\n",
        "            distances = [minkowski_distance(x, x_train, p=self.p) for x_train in self.X_train]\n",
        "        else:\n",
        "            raise ValueError(\"Unsupported distance metric\")\n",
        "        return distances\n",
        "\n",
        "    def predict_knn(self, X_test):\n",
        "\n",
        "        predictions = []\n",
        "\n",
        "        for x in tqdm(X_test):\n",
        "\n",
        "            distances = self._compute_distance(x)   # distances from all points\n",
        "            k_indices = np.argsort(distances)[:self.k]  # lowest distances\n",
        "            k_distances = [distances[i] for i in k_indices]  # sorted_distances of K neighbors\n",
        "            # k_indices = np.argsort(distances)[:self.k]\n",
        "            k_nearest_labels = [self.y_train[i] for i in k_indices]\n",
        "            # print(\"K = \", k_nearest_labels)\n",
        "\n",
        "            #Q1. Average of K-nearest neighbors\n",
        "            if self.weight == 'uniform':\n",
        "                prediction = np.mean(k_nearest_labels)\n",
        "                predictions.append(prediction)\n",
        "\n",
        "            #Q2. Weighted average of k nearest neighbors, with weights being inverse of distances from the k neighbors\n",
        "            elif self.weight == 'distance':\n",
        "                #k_distances = np.where(k_distances == 0, 1e-10, k_distances)        # to handle infinity value if distance = 0\n",
        "                weights = [1/distance for distance in k_distances[:self.k]]\n",
        "                prediction = np.dot(weights, k_nearest_labels) / np.sum(weights)     # Σ(wi*xi)/Σ(wi)\n",
        "                # print(prediction)\n",
        "                predictions.append(prediction)\n",
        "\n",
        "            else:\n",
        "                raise ValueError(\"Unsupported weight type\")\n",
        "\n",
        "        return predictions"
      ],
      "metadata": {
        "id": "zae44Nt34u6O"
      },
      "execution_count": 316,
      "outputs": []
    },
    {
      "cell_type": "markdown",
      "source": [
        "#### Task - 3:\n",
        "Plot regression metric (mean squared error) against different values of k ``` {3, 7, 11}``` and different distance measures ```{p=2, p=1, p=5}```and report the k value and distance measure combination that gave the best performance (lowest MSE) [Marks - 4]"
      ],
      "metadata": {
        "id": "a1S6i3IB4YEN"
      }
    },
    {
      "cell_type": "markdown",
      "source": [
        "Answer:\n",
        "We use validation set to find the optimal values of k and p.\n",
        "\n",
        "*   For Average, k=3, p=2, MSE = 362.643\n",
        "*   For Distance, k=3, p=2, MSE = 349.165"
      ],
      "metadata": {
        "id": "QtnOGTj7EGXX"
      }
    },
    {
      "cell_type": "code",
      "source": [
        "k_values = [3, 7, 11]\n",
        "p_values = [2, 1, 5]"
      ],
      "metadata": {
        "id": "RGT72AGu1m74"
      },
      "execution_count": 317,
      "outputs": []
    },
    {
      "cell_type": "code",
      "source": [
        "class Metrics:\n",
        "    def __init__(self, k_values, p_values, mse_values):\n",
        "        self.k_values = k_values  # list of k values\n",
        "        self.p_values = p_values  # list of p values\n",
        "        self.mse_values = mse_values  # mse_values should be a dictionary\n",
        "\n",
        "    def _find_best_metrics(self, mse_values):\n",
        "        min_mse = float('inf')\n",
        "        best_k = None\n",
        "        best_p = None\n",
        "        for k, values in mse_values.items():\n",
        "            for p, mse in values:\n",
        "                if mse < min_mse:\n",
        "                    min_mse = mse\n",
        "                    best_k = k\n",
        "                    best_p = p\n",
        "        print(f\"K = {best_k} and distance measure (p) = {best_p} gave the best performance with Mean Square Error = {min_mse}\")\n",
        "        return best_k, best_p, min_mse\n",
        "\n",
        "    def plot_regression_metrics(self, mse_values):\n",
        "        plt.figure(figsize=(8, 6)) # figure\n",
        "        for k, mse_k in mse_values.items():\n",
        "            p_values, mse_vals = zip(*mse_k)\n",
        "            plt.scatter(p_values, mse_vals, marker='o', label=f'K = {k}')  # Plot only data points\n",
        "        plt.grid(True)\n",
        "        plt.xlabel('p values')\n",
        "        plt.ylabel('Mean Squase Error (MSE)')\n",
        "        plt.title('MSE vs. p for different K values')\n",
        "        plt.legend()\n",
        "        plt.show()"
      ],
      "metadata": {
        "id": "c9GmRE3x145C"
      },
      "execution_count": 318,
      "outputs": []
    },
    {
      "cell_type": "markdown",
      "source": [
        "**1) Average of K-nearest neighbors**"
      ],
      "metadata": {
        "id": "nvWt-JR31g6X"
      }
    },
    {
      "cell_type": "code",
      "source": [
        "# regression using scratch implementation\n",
        "\n",
        "mse_values_average = {} # key is `k` and the value is a list of (p, mse) tuples\n",
        "\n",
        "for k in k_values:\n",
        "    mse_k = []\n",
        "    for p in p_values:\n",
        "        #knn_regressor = KNeighborsRegressor(n_neighbors=k, algorithm='brute', p=p, metric='minkowski')\n",
        "        knn = KNN(k=k, weight='uniform',distance_metric='minkowski', p=p)\n",
        "        knn.fit_knn(X_train, y_train)\n",
        "        y_pred_val = knn.predict_knn(X_val)\n",
        "        mse_val = mean_squared_error(y_val, y_pred_val)\n",
        "        mse_k.append((p, mse_val))\n",
        "    mse_values_average[k] = mse_k"
      ],
      "metadata": {
        "colab": {
          "base_uri": "https://localhost:8080/"
        },
        "id": "KjS6cJd45qvN",
        "outputId": "5e112021-254f-4310-ac43-eb59842487ac"
      },
      "execution_count": 319,
      "outputs": [
        {
          "output_type": "stream",
          "name": "stderr",
          "text": [
            "100%|██████████| 225/225 [00:01<00:00, 151.71it/s]\n",
            "100%|██████████| 225/225 [00:01<00:00, 152.04it/s]\n",
            "100%|██████████| 225/225 [00:01<00:00, 156.80it/s]\n",
            "100%|██████████| 225/225 [00:00<00:00, 277.24it/s]\n",
            "100%|██████████| 225/225 [00:00<00:00, 279.19it/s]\n",
            "100%|██████████| 225/225 [00:01<00:00, 202.76it/s]\n",
            "100%|██████████| 225/225 [00:00<00:00, 284.63it/s]\n",
            "100%|██████████| 225/225 [00:00<00:00, 278.03it/s]\n",
            "100%|██████████| 225/225 [00:01<00:00, 206.69it/s]\n"
          ]
        }
      ]
    },
    {
      "cell_type": "code",
      "source": [
        "print(mse_values_average)"
      ],
      "metadata": {
        "colab": {
          "base_uri": "https://localhost:8080/"
        },
        "id": "nr5-xZsSLpCc",
        "outputId": "82962722-6110-4d4f-8f40-cf828bdf342d"
      },
      "execution_count": 320,
      "outputs": [
        {
          "output_type": "stream",
          "name": "stdout",
          "text": [
            "{3: [(2, 362.6436044358489), (1, 444.30617115634664), (5, 379.8871022423204)], 7: [(2, 382.57080433668443), (1, 413.3794484331171), (5, 391.3878085162752)], 11: [(2, 427.2328008908954), (1, 487.66790816155674), (5, 444.20338941858876)]}\n"
          ]
        }
      ]
    },
    {
      "cell_type": "code",
      "source": [
        "metrics = Metrics(k_values, p_values, mse_values_average)\n",
        "best_k_avg, best_p_avg, min_mse_avg = metrics._find_best_metrics(mse_values_average)\n",
        "metrics.plot_regression_metrics(mse_values_average)"
      ],
      "metadata": {
        "colab": {
          "base_uri": "https://localhost:8080/",
          "height": 582
        },
        "id": "DklCnuM31Xw5",
        "outputId": "82133fbc-80b7-4e90-c9c0-4b0cfbea200d"
      },
      "execution_count": 321,
      "outputs": [
        {
          "output_type": "stream",
          "name": "stdout",
          "text": [
            "K = 3 and distance measure (p) = 2 gave the best performance with Mean Square Error = 362.6436044358489\n"
          ]
        },
        {
          "output_type": "display_data",
          "data": {
            "text/plain": [
              "<Figure size 800x600 with 1 Axes>"
            ],
            "image/png": "[encoded data removed]"
          },
          "metadata": {}
        }
      ]
    },
    {
      "cell_type": "code",
      "source": [
        "# Regression on test set using optimal values of p, k\n",
        "knn = KNN(k=best_p_avg, weight='uniform', distance_metric='minkowski', p=best_p_avg)\n",
        "knn.fit_knn(X_train, y_train)\n",
        "y_pred_test = knn.predict_knn(X_test)\n",
        "mse_val = mean_squared_error(y_test, y_pred_test)\n",
        "print(f\"MSE on test set: {mse_val}\")"
      ],
      "metadata": {
        "colab": {
          "base_uri": "https://localhost:8080/"
        },
        "id": "B0v7axIBEdrq",
        "outputId": "31f965dc-c886-4b86-818f-e75631570a58"
      },
      "execution_count": 322,
      "outputs": [
        {
          "output_type": "stream",
          "name": "stderr",
          "text": [
            "100%|██████████| 250/250 [00:00<00:00, 273.48it/s]"
          ]
        },
        {
          "output_type": "stream",
          "name": "stdout",
          "text": [
            "MSE on test set: 414.45918841779115\n"
          ]
        },
        {
          "output_type": "stream",
          "name": "stderr",
          "text": [
            "\n"
          ]
        }
      ]
    },
    {
      "cell_type": "markdown",
      "source": [
        "**2) Weighted average of k nearest neighbors, with weights being inverse of distances from the k neighbors**"
      ],
      "metadata": {
        "id": "6mn0g91_7-DB"
      }
    },
    {
      "cell_type": "code",
      "source": [
        "mse_values_distance = {} # key is `k` and the value is a list of (p, mse) tuples\n",
        "\n",
        "for k in k_values:\n",
        "    mse_k = []\n",
        "    for p in p_values:\n",
        "        knn = KNN(k=k, weight='distance',distance_metric='minkowski', p=p) #weights being inverse of distances\n",
        "        knn.fit_knn(X_train, y_train)\n",
        "        y_pred_val = knn.predict_knn(X_val)\n",
        "        mse_val = mean_squared_error(y_val, y_pred_val)\n",
        "        mse_k.append((p, mse_val))\n",
        "    mse_values_distance[k] = mse_k"
      ],
      "metadata": {
        "colab": {
          "base_uri": "https://localhost:8080/"
        },
        "id": "5u2tmb2U1Xzf",
        "outputId": "c26723a1-b8bf-4d48-8fbf-e7425fd28104"
      },
      "execution_count": 323,
      "outputs": [
        {
          "output_type": "stream",
          "name": "stderr",
          "text": [
            "100%|██████████| 225/225 [00:00<00:00, 265.21it/s]\n",
            "100%|██████████| 225/225 [00:00<00:00, 290.36it/s]\n",
            "100%|██████████| 225/225 [00:01<00:00, 158.45it/s]\n",
            "100%|██████████| 225/225 [00:01<00:00, 162.27it/s]\n",
            "100%|██████████| 225/225 [00:01<00:00, 164.40it/s]\n",
            "100%|██████████| 225/225 [00:01<00:00, 205.89it/s]\n",
            "100%|██████████| 225/225 [00:00<00:00, 273.49it/s]\n",
            "100%|██████████| 225/225 [00:00<00:00, 276.21it/s]\n",
            "100%|██████████| 225/225 [00:01<00:00, 202.74it/s]\n"
          ]
        }
      ]
    },
    {
      "cell_type": "code",
      "source": [
        "metrics = Metrics(k_values, p_values, mse_values_distance)\n",
        "best_k_distance, best_p_distance, min_mse_distance = metrics._find_best_metrics(mse_values_distance)\n",
        "metrics.plot_regression_metrics(mse_values_distance)"
      ],
      "metadata": {
        "id": "D6ZW_e6F5DbS",
        "colab": {
          "base_uri": "https://localhost:8080/",
          "height": 582
        },
        "outputId": "07af3ced-95ba-470e-b3c3-2c689c34fd4f"
      },
      "execution_count": 324,
      "outputs": [
        {
          "output_type": "stream",
          "name": "stdout",
          "text": [
            "K = 3 and distance measure (p) = 2 gave the best performance with Mean Square Error = 349.1650785199404\n"
          ]
        },
        {
          "output_type": "display_data",
          "data": {
            "text/plain": [
              "<Figure size 800x600 with 1 Axes>"
            ],
            "image/png": "[encoded data removed]"
          },
          "metadata": {}
        }
      ]
    },
    {
      "cell_type": "code",
      "source": [
        "# Regression on test set using optimal values of p, k\n",
        "knn = KNN(k=best_p_distance, weight='distance',distance_metric='minkowski', p=best_p_distance)\n",
        "knn.fit_knn(X_train, y_train)\n",
        "y_pred_test = knn.predict_knn(X_test)\n",
        "mse_val = mean_squared_error(y_test, y_pred_test)\n",
        "print(f\"MSE on test set: {mse_val}\")"
      ],
      "metadata": {
        "colab": {
          "base_uri": "https://localhost:8080/"
        },
        "id": "OlG5yOauE4FN",
        "outputId": "847a24a7-59b9-42e5-8a59-307f16485de0"
      },
      "execution_count": 325,
      "outputs": [
        {
          "output_type": "stream",
          "name": "stderr",
          "text": [
            "100%|██████████| 250/250 [00:00<00:00, 274.64it/s]"
          ]
        },
        {
          "output_type": "stream",
          "name": "stdout",
          "text": [
            "MSE on test set: 392.2198896394537\n"
          ]
        },
        {
          "output_type": "stream",
          "name": "stderr",
          "text": [
            "\n"
          ]
        }
      ]
    },
    {
      "cell_type": "markdown",
      "source": [
        "#### Task - 4:\n",
        "Implement KNN regression using scikit-learn, with the same values of k and p as above\n",
        "\n",
        "##### Note - one argument of scikit-learn KNN is ```algorithm='auto'``` and acceptable values are ```{'auto', 'ball_tree', 'kd_tree', 'brute'}, default='auto' ```. For this task use ```'brute'``` setting.\n",
        "\n",
        "[Marks - 4]"
      ],
      "metadata": {
        "id": "v1U2S3fs6VIP"
      }
    },
    {
      "cell_type": "markdown",
      "source": [
        "Answer:\n",
        "\n",
        "*   For Average, k=3, p=2, MSE = 362.643\n",
        "*   For Distance, k=3, p=2, MSE = 335.407"
      ],
      "metadata": {
        "id": "2D7rTGExDjHj"
      }
    },
    {
      "cell_type": "code",
      "source": [
        "from sklearn.neighbors import KNeighborsRegressor"
      ],
      "metadata": {
        "id": "KuKXsCC1GG8N"
      },
      "execution_count": 326,
      "outputs": []
    },
    {
      "cell_type": "markdown",
      "source": [
        "**1) Average of K-nearest neighbors**"
      ],
      "metadata": {
        "id": "AfGVYY9t_Noi"
      }
    },
    {
      "cell_type": "code",
      "source": [
        "mse_values_average_sk = {}\n",
        "\n",
        "for k in k_values:\n",
        "    mse_k = []\n",
        "    for p in p_values:\n",
        "        knn_regressor = KNeighborsRegressor(n_neighbors=k, weights='uniform', algorithm='brute', p=p, metric='minkowski')\n",
        "        knn_regressor.fit(X_train, y_train)\n",
        "        y_pred_val = knn_regressor.predict(X_val)\n",
        "        mse_val = mean_squared_error(y_val, y_pred_val)\n",
        "        mse_k.append((p, mse_val))\n",
        "    mse_values_average_sk[k] = mse_k"
      ],
      "metadata": {
        "id": "VaLWd3t1_R-L"
      },
      "execution_count": 327,
      "outputs": []
    },
    {
      "cell_type": "code",
      "source": [
        "print(mse_values_average_sk)"
      ],
      "metadata": {
        "colab": {
          "base_uri": "https://localhost:8080/"
        },
        "id": "CNUcNugCLwBk",
        "outputId": "2dc48d4e-aed1-492c-f1c8-bf1497cf8f11"
      },
      "execution_count": 328,
      "outputs": [
        {
          "output_type": "stream",
          "name": "stdout",
          "text": [
            "{3: [(2, 362.6436044358489), (1, 444.30617115634664), (5, 379.8871022423204)], 7: [(2, 382.57080433668443), (1, 413.3794484331171), (5, 391.3878085162752)], 11: [(2, 427.2328008908954), (1, 487.66790816155674), (5, 444.20338941858876)]}\n"
          ]
        }
      ]
    },
    {
      "cell_type": "code",
      "source": [
        "metrics = Metrics(k_values, p_values, mse_values_average_sk)\n",
        "best_k_avg_sk, best_p_avg_sk, min_mse_avg_sk = metrics._find_best_metrics(mse_values_average_sk)\n",
        "metrics.plot_regression_metrics(mse_values_average_sk)"
      ],
      "metadata": {
        "colab": {
          "base_uri": "https://localhost:8080/",
          "height": 582
        },
        "id": "PzBfnFRg_i-N",
        "outputId": "9725012c-e8d7-4453-fd58-7c7a6dea8ab7"
      },
      "execution_count": 329,
      "outputs": [
        {
          "output_type": "stream",
          "name": "stdout",
          "text": [
            "K = 3 and distance measure (p) = 2 gave the best performance with Mean Square Error = 362.6436044358489\n"
          ]
        },
        {
          "output_type": "display_data",
          "data": {
            "text/plain": [
              "<Figure size 800x600 with 1 Axes>"
            ],
            "image/png": "[encoded data removed]"
          },
          "metadata": {}
        }
      ]
    },
    {
      "cell_type": "code",
      "source": [
        "# Regression on test set using optimal values of p, k\n",
        "knn_regressor = KNeighborsRegressor(n_neighbors=best_k_avg_sk, weights='uniform', algorithm='brute', p=best_p_avg_sk, metric='minkowski')\n",
        "knn_regressor.fit(X_train, y_train)\n",
        "y_pred_test = knn_regressor.predict(X_test)\n",
        "mse_val = mean_squared_error(y_test, y_pred_test)\n",
        "print(f\"MSE on test set: {mse_val}\")"
      ],
      "metadata": {
        "colab": {
          "base_uri": "https://localhost:8080/"
        },
        "id": "pk53Zl2bFIh3",
        "outputId": "1318b3b1-8cc7-4452-dc0e-1c909990e7de"
      },
      "execution_count": 330,
      "outputs": [
        {
          "output_type": "stream",
          "name": "stdout",
          "text": [
            "MSE on test set: 353.2350436444619\n"
          ]
        }
      ]
    },
    {
      "cell_type": "markdown",
      "source": [
        "**2) Weighted average of k nearest neighbors, with weights being inverse of distances from the k neighbors**"
      ],
      "metadata": {
        "id": "EKULrQff_3SY"
      }
    },
    {
      "cell_type": "code",
      "source": [
        "mse_values_distance_sk = {}\n",
        "\n",
        "for k in k_values:\n",
        "    mse_k = []\n",
        "    for p in p_values:\n",
        "        knn_regressor = KNeighborsRegressor(n_neighbors=k, weights='distance',algorithm='brute', p=p, metric='minkowski')\n",
        "        knn_regressor.fit(X_train, y_train)\n",
        "        y_pred_val = knn_regressor.predict(X_test)\n",
        "        mse_val = mean_squared_error(y_test, y_pred_val)\n",
        "        mse_k.append((p, mse_val))\n",
        "    mse_values_distance_sk[k] = mse_k"
      ],
      "metadata": {
        "id": "7kZEcAkI_2nA"
      },
      "execution_count": 331,
      "outputs": []
    },
    {
      "cell_type": "code",
      "source": [
        "metrics = Metrics(k_values, p_values, mse_values_distance_sk)\n",
        "best_k_distance_sk, best_p_distance_sk, min_mse_distance_sk = metrics._find_best_metrics(mse_values_distance_sk)\n",
        "metrics.plot_regression_metrics(mse_values_distance_sk)"
      ],
      "metadata": {
        "id": "pS4pig2B60N7",
        "colab": {
          "base_uri": "https://localhost:8080/",
          "height": 582
        },
        "outputId": "cba91c59-afad-4c77-a3f2-890611c8eec2"
      },
      "execution_count": 332,
      "outputs": [
        {
          "output_type": "stream",
          "name": "stdout",
          "text": [
            "K = 3 and distance measure (p) = 2 gave the best performance with Mean Square Error = 335.40767518106\n"
          ]
        },
        {
          "output_type": "display_data",
          "data": {
            "text/plain": [
              "<Figure size 800x600 with 1 Axes>"
            ],
            "image/png": "[encoded data removed]"
          },
          "metadata": {}
        }
      ]
    },
    {
      "cell_type": "code",
      "source": [
        "# Regression on test set using optimal values of p, k\n",
        "knn_regressor = KNeighborsRegressor(n_neighbors=best_k_avg_sk, weights='distance', algorithm='brute', p=best_p_avg_sk, metric='minkowski')\n",
        "knn_regressor.fit(X_train, y_train)\n",
        "y_pred_test = knn_regressor.predict(X_test)\n",
        "mse_val = mean_squared_error(y_test, y_pred_test)\n",
        "print(f\"MSE on test set: {mse_val}\")"
      ],
      "metadata": {
        "colab": {
          "base_uri": "https://localhost:8080/"
        },
        "id": "HZrMvJtWFYNJ",
        "outputId": "9161faa2-10af-450d-f68b-ea03c315483b"
      },
      "execution_count": 333,
      "outputs": [
        {
          "output_type": "stream",
          "name": "stdout",
          "text": [
            "MSE on test set: 335.40767518106\n"
          ]
        }
      ]
    },
    {
      "cell_type": "markdown",
      "source": [
        "#### Task - 5:\n",
        "Comparison with scikit-learn's implementation - Does the optimal values of k and distance metric as well as best performance level of the from scratch implementation match with those given by Sklearn?\n",
        "\n",
        " [Marks - 2]"
      ],
      "metadata": {
        "id": "Au1kREtt6zn0"
      }
    },
    {
      "cell_type": "markdown",
      "source": [
        "**1) Average of K-nearest neighbors**"
      ],
      "metadata": {
        "id": "fFx-v23KBLLR"
      }
    },
    {
      "cell_type": "markdown",
      "source": [
        "Answer: k=3, p=2 (matches)"
      ],
      "metadata": {
        "id": "ODzP7LJXDWEy"
      }
    },
    {
      "cell_type": "code",
      "source": [
        "if best_k_avg == best_k_avg_sk and best_p_avg == best_p_avg_sk:\n",
        "    print(\"The optimal values of k and distance metric (p) MATCH with those given by Sklearn\")\n",
        "    print(f\"k = {best_k_distance}, p = {best_p_distance}\")\n",
        "else:\n",
        "    print(\"The optimal values of k and distance metric (p) does NOT MATCH with those given by Sklearn\")\n",
        "    print(f\"From scratch implementation, k = {best_k_distance}, p = {best_p_distance}\")\n",
        "    print(f\"From scikit-learn implementation, k = {best_k_distance_sk}, p = {best_p_distance_sk}\")"
      ],
      "metadata": {
        "colab": {
          "base_uri": "https://localhost:8080/"
        },
        "id": "RWSTBDNhBFTf",
        "outputId": "be834696-283b-4d7d-b4d7-648a0ca6e331"
      },
      "execution_count": 334,
      "outputs": [
        {
          "output_type": "stream",
          "name": "stdout",
          "text": [
            "The optimal values of k and distance metric (p) MATCH with those given by Sklearn\n",
            "k = 3, p = 2\n"
          ]
        }
      ]
    },
    {
      "cell_type": "markdown",
      "source": [
        "**2) Weighted average of k nearest neighbors, with weights being inverse of distances from the k neighbors**"
      ],
      "metadata": {
        "id": "IcKzUAxECp1s"
      }
    },
    {
      "cell_type": "markdown",
      "source": [
        "Answer: k=3, p=2 (matches)"
      ],
      "metadata": {
        "id": "9ZMS5UGnIriI"
      }
    },
    {
      "cell_type": "code",
      "source": [
        "if best_k_distance == best_k_distance_sk and best_p_distance == best_p_distance_sk:\n",
        "    print(\"The optimal values of k and distance metric (p) MATCH with those given by Sklearn\")\n",
        "    print(f\"k = {best_k_distance}, p = {best_p_distance}\")\n",
        "else:\n",
        "    print(\"The optimal values of k and distance metric (p) does NOT MATCH with those given by Sklearn\")\n",
        "    print(f\"From scratch implementation, k = {best_k_distance}, p = {best_p_distance}\")\n",
        "    print(f\"From scikit-learn implementation, k = {best_k_distance_sk}, p = {best_p_distance_sk}\")"
      ],
      "metadata": {
        "id": "kImqqbVu8YqB",
        "colab": {
          "base_uri": "https://localhost:8080/"
        },
        "outputId": "45ea25e7-74a0-4621-e075-e6bfca4071a2"
      },
      "execution_count": 335,
      "outputs": [
        {
          "output_type": "stream",
          "name": "stdout",
          "text": [
            "The optimal values of k and distance metric (p) MATCH with those given by Sklearn\n",
            "k = 3, p = 2\n"
          ]
        }
      ]
    }
  ]
}